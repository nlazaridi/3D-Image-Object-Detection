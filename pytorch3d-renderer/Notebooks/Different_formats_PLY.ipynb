{
 "cells": [
  {
   "cell_type": "code",
   "execution_count": null,
   "metadata": {},
   "outputs": [],
   "source": [
    "'''Run some examples with PLY format. Mostly for exporting to OBJ And re-import to check if the output is OK'''"
   ]
  },
  {
   "cell_type": "code",
   "execution_count": 2,
   "metadata": {},
   "outputs": [],
   "source": [
    "from pytorch3d.io import load_obj, save_obj, load_ply,load_objs_as_meshes\n",
    "import trimesh\n",
    "import numpy as np\n",
    "import torch\n",
    "import sys\n",
    "import os\n",
    "from pathlib import Path\n",
    "sys.path.append(\"../\")\n",
    "from rendererClass import RendererClass\n",
    "import json\n",
    "import itertools\n",
    "from loguru import logger\n",
    "from pytorch3d.io import IO\n",
    "from pytorch3d.io import load_obj, load_ply\n",
    "import matplotlib.pyplot as plt\n",
    "from pytorch3d.structures import Meshes\n",
    "from pytorch3d.renderer import (\n",
    "    look_at_view_transform,\n",
    "    FoVPerspectiveCameras,\n",
    "    FoVOrthographicCameras,\n",
    "    Materials,\n",
    "    RasterizationSettings,\n",
    "    PointLights,\n",
    "    \n",
    "    MeshRenderer,\n",
    "    MeshRasterizer,\n",
    "    SoftPhongShader,\n",
    "    TexturesVertex,\n",
    "    TexturesAtlas,\n",
    "    PointsRenderer,\n",
    "    PointsRasterizationSettings,\n",
    "    HardPhongShader,\n",
    "    PointsRasterizer\n",
    ")"
   ]
  },
  {
   "cell_type": "code",
   "execution_count": 3,
   "metadata": {},
   "outputs": [],
   "source": [
    "param_path = \"/home/andstasi/Projects/MediaVerse/3D_to_2D_converter/pytorch3d-renderer/params_inference.json\"\n",
    "with open(param_path) as f:\n",
    "    params = json.load(f)\n",
    "\n",
    "device = \"cuda:0\"\n",
    "#load the pars to render 3D\n",
    "all_dist = params[\"camera_dist\"]\n",
    "all_elev = params[\"elevation\"]\n",
    "all_azim = params[\"azim_angle\"]\n",
    "\n",
    "#get all combinations\n",
    "all_combs =  list(itertools.product(*[all_dist,all_elev,all_azim]))"
   ]
  },
  {
   "cell_type": "markdown",
   "metadata": {},
   "source": [
    "# Pytorch3D"
   ]
  },
  {
   "cell_type": "code",
   "execution_count": 2,
   "metadata": {},
   "outputs": [],
   "source": [
    "bed_ply_path = \"/home/andstasi/Projects/MediaVerse/3D_to_2D_converter/pytorch3d-renderer/data/random_example/Bed/Single_Bed.ply\"\n",
    "s3dis_path = \"/home/andstasi/Projects/MediaVerse/3D_to_2D_converter/pytorch3d-renderer/data/random_example/S3DIS_examples/Area_3_conferenceRoom_1.ply\"\n",
    "bedroom_path = \"/home/andstasi/Projects/MediaVerse/3D_to_2D_converter/pytorch3d-renderer/data/random_example/Several_format/bed_room/untitled.obj\"\n",
    "\n",
    "tiger_path = \"/home/andstasi/Projects/MediaVerse/3D_to_2D_converter/pytorch3d-renderer/data/random_example/Several_format/tiger/Golden Tiger.ply\"\n",
    "tiger_path_obj = \"/home/andstasi/Projects/MediaVerse/3D_to_2D_converter/pytorch3d-renderer/data/random_example/Several_format/tiger/PLY_to_OBJ.obj\"\n",
    "body_path = \"/home/andstasi/Projects/MediaVerse/3D_to_2D_converter/pytorch3d-renderer/data/random_example/Several_format/full_body_scan/Full body PLY/full_body.ply\""
   ]
  },
  {
   "cell_type": "code",
   "execution_count": 3,
   "metadata": {},
   "outputs": [],
   "source": [
    "liberty_path = \"/home/andstasi/Projects/MediaVerse/3D_to_2D_converter/pytorch3d-renderer/data/random_example/Liberty/object.obj\""
   ]
  },
  {
   "cell_type": "code",
   "execution_count": 168,
   "metadata": {},
   "outputs": [],
   "source": [
    "io = IO()\n",
    "mesh = io.load_mesh(tiger_path_obj, device = \"cuda:0\")\n",
    "#mesh = load_objs_as_meshes([tiger_path_obj], device = \"cuda:0\")"
   ]
  },
  {
   "cell_type": "markdown",
   "metadata": {},
   "source": [
    "# Trimesh "
   ]
  },
  {
   "cell_type": "markdown",
   "metadata": {},
   "source": [
    "## PLY to OBJ"
   ]
  },
  {
   "cell_type": "code",
   "execution_count": 2,
   "metadata": {},
   "outputs": [],
   "source": [
    "bed_ply_path = \"/home/andstasi/Projects/MediaVerse/3D_to_2D_converter/pytorch3d-renderer/data/random_example/Bed/Single_Bed.ply\"\n",
    "bedroom_path = \"/home/andstasi/Projects/MediaVerse/3D_to_2D_converter/pytorch3d-renderer/data/random_example/Several_format/full_body_scan/Full body PLY/full_body.ply\"\n",
    "tiger_path = \"/home/andstasi/Projects/MediaVerse/3D_to_2D_converter/pytorch3d-renderer/data/random_example/Several_format/tiger/Golden Tiger.ply\"\n",
    "bed_scene = trimesh.load(tiger_path, fix_texture = True, prefer_color = \"faces\")\n"
   ]
  },
  {
   "cell_type": "code",
   "execution_count": 5,
   "metadata": {},
   "outputs": [],
   "source": [
    "\n",
    "\n",
    "bed_scene.export(os.path.join(Path(tiger_path).parent.absolute(),'PLY_to_OBJ.obj'))\n",
    "scene_obj = trimesh.load(os.path.join(Path(tiger_path).parent.absolute(),'PLY_to_OBJ.obj'), process=False,maintain_order=True)"
   ]
  },
  {
   "cell_type": "code",
   "execution_count": 9,
   "metadata": {},
   "outputs": [],
   "source": [
    "# load with pytorch3D for the colors\n",
    "\n",
    "verts, faces, aux = load_obj(\n",
    "            os.path.join(Path(tiger_path).parent.absolute(),'PLY_to_OBJ.obj'),\n",
    "            device=\"cpu\",\n",
    "            load_textures=True\n",
    "            )"
   ]
  },
  {
   "cell_type": "code",
   "execution_count": 12,
   "metadata": {},
   "outputs": [
    {
     "data": {
      "text/plain": [
       "Faces(verts_idx=tensor([[924052, 944825, 564315],\n",
       "        [564315, 944825, 108727],\n",
       "        [961701, 108727, 944825],\n",
       "        ...,\n",
       "        [482205, 708793, 820548],\n",
       "        [501140, 781463, 526029],\n",
       "        [541915, 541916,  90024]]), normals_idx=tensor([[-1, -1, -1],\n",
       "        [-1, -1, -1],\n",
       "        [-1, -1, -1],\n",
       "        ...,\n",
       "        [-1, -1, -1],\n",
       "        [-1, -1, -1],\n",
       "        [-1, -1, -1]]), textures_idx=tensor([[-1, -1, -1],\n",
       "        [-1, -1, -1],\n",
       "        [-1, -1, -1],\n",
       "        ...,\n",
       "        [-1, -1, -1],\n",
       "        [-1, -1, -1],\n",
       "        [-1, -1, -1]]), materials_idx=tensor([-1, -1, -1,  ..., -1, -1, -1]))"
      ]
     },
     "execution_count": 12,
     "metadata": {},
     "output_type": "execute_result"
    }
   ],
   "source": [
    "faces"
   ]
  },
  {
   "cell_type": "markdown",
   "metadata": {},
   "source": [
    "## Directly use them "
   ]
  },
  {
   "cell_type": "code",
   "execution_count": 89,
   "metadata": {},
   "outputs": [
    {
     "ename": "ValueError",
     "evalue": "Expected verts_features to be of shape (N, V, C); got 'torch.Size([1266990, 3])'",
     "output_type": "error",
     "traceback": [
      "\u001b[0;31m---------------------------------------------------------------------------\u001b[0m",
      "\u001b[0;31mValueError\u001b[0m                                Traceback (most recent call last)",
      "\u001b[0;32m/tmp/ipykernel_208756/2787892219.py\u001b[0m in \u001b[0;36m<module>\u001b[0;34m\u001b[0m\n\u001b[1;32m      9\u001b[0m \u001b[0;34m\u001b[0m\u001b[0m\n\u001b[1;32m     10\u001b[0m \u001b[0;34m\u001b[0m\u001b[0m\n\u001b[0;32m---> 11\u001b[0;31m \u001b[0mtex\u001b[0m \u001b[0;34m=\u001b[0m \u001b[0mTexturesVertex\u001b[0m\u001b[0;34m(\u001b[0m\u001b[0mverts_features\u001b[0m\u001b[0;34m=\u001b[0m\u001b[0mfeatures\u001b[0m\u001b[0;34m)\u001b[0m\u001b[0;34m\u001b[0m\u001b[0;34m\u001b[0m\u001b[0m\n\u001b[0m",
      "\u001b[0;32m~/anaconda3/envs/triton_inf/lib/python3.8/site-packages/pytorch3d/renderer/mesh/textures.py\u001b[0m in \u001b[0;36m__init__\u001b[0;34m(self, verts_features)\u001b[0m\n\u001b[1;32m   1336\u001b[0m             \u001b[0;32mif\u001b[0m \u001b[0mverts_features\u001b[0m\u001b[0;34m.\u001b[0m\u001b[0mndim\u001b[0m \u001b[0;34m!=\u001b[0m \u001b[0;36m3\u001b[0m\u001b[0;34m:\u001b[0m\u001b[0;34m\u001b[0m\u001b[0;34m\u001b[0m\u001b[0m\n\u001b[1;32m   1337\u001b[0m                 \u001b[0mmsg\u001b[0m \u001b[0;34m=\u001b[0m \u001b[0;34m\"Expected verts_features to be of shape (N, V, C); got %r\"\u001b[0m\u001b[0;34m\u001b[0m\u001b[0;34m\u001b[0m\u001b[0m\n\u001b[0;32m-> 1338\u001b[0;31m                 \u001b[0;32mraise\u001b[0m \u001b[0mValueError\u001b[0m\u001b[0;34m(\u001b[0m\u001b[0mmsg\u001b[0m \u001b[0;34m%\u001b[0m \u001b[0mrepr\u001b[0m\u001b[0;34m(\u001b[0m\u001b[0mverts_features\u001b[0m\u001b[0;34m.\u001b[0m\u001b[0mshape\u001b[0m\u001b[0;34m)\u001b[0m\u001b[0;34m)\u001b[0m\u001b[0;34m\u001b[0m\u001b[0;34m\u001b[0m\u001b[0m\n\u001b[0m\u001b[1;32m   1339\u001b[0m             \u001b[0mself\u001b[0m\u001b[0;34m.\u001b[0m\u001b[0m_verts_features_padded\u001b[0m \u001b[0;34m=\u001b[0m \u001b[0mverts_features\u001b[0m\u001b[0;34m\u001b[0m\u001b[0;34m\u001b[0m\u001b[0m\n\u001b[1;32m   1340\u001b[0m             \u001b[0mself\u001b[0m\u001b[0;34m.\u001b[0m\u001b[0m_verts_features_list\u001b[0m \u001b[0;34m=\u001b[0m \u001b[0;32mNone\u001b[0m\u001b[0;34m\u001b[0m\u001b[0;34m\u001b[0m\u001b[0m\n",
      "\u001b[0;31mValueError\u001b[0m: Expected verts_features to be of shape (N, V, C); got 'torch.Size([1266990, 3])'"
     ]
    }
   ],
   "source": [
    "#REFERENCE: https://github.com/facebookresearch/pytorch3d/issues/468\n",
    "\n",
    "bed_ply_path = \"/home/andstasi/Projects/MediaVerse/3D_to_2D_converter/pytorch3d-renderer/data/random_example/Bed/Single_Bed.ply\"\n",
    "bed_scene = trimesh.load(bed_ply_path)\n",
    "bed_scene\n",
    "\n",
    "np_vertices = np.array(bed_scene.vertices)\n",
    "np_faces = np.array(bed_scene.faces)\n",
    "\n",
    "verts = torch.from_numpy(np.array(np_vertices, dtype='float32'))[None][0]\n",
    "faces = torch.from_numpy(np.array(np_faces,dtype='int64'))[None][0]\n",
    "features = torch.from_numpy(np.array(conference_room.visual.vertex_colors,dtype='float32')[:,0:3])[None][0]\n",
    "\n",
    "\n",
    "tex = TexturesVertex(verts_features=features)"
   ]
  },
  {
   "cell_type": "markdown",
   "metadata": {},
   "source": [
    "# PLY with colors"
   ]
  },
  {
   "cell_type": "code",
   "execution_count": null,
   "metadata": {},
   "outputs": [],
   "source": [
    "'''\n",
    "There are several cases where the PLY has colors but when we import it with pytorch3D it does not import the colors\n",
    "For that reason we will import it with trimesh and get the colors\n",
    "\n",
    "'''"
   ]
  },
  {
   "cell_type": "code",
   "execution_count": 4,
   "metadata": {},
   "outputs": [],
   "source": [
    "tiger_path = \"/home/andstasi/Projects/MediaVerse/3D_to_2D_converter/pytorch3d-renderer/data/random_example/Several_format/tiger/Golden Tiger.ply\"\n",
    "tiger_path_obj = \"/home/andstasi/Projects/MediaVerse/3D_to_2D_converter/pytorch3d-renderer/data/random_example/Several_format/tiger/PLY_to_OBJ.obj\"\n",
    "liberty_path = \"/home/andstasi/Projects/MediaVerse/3D_to_2D_converter/pytorch3d-renderer/data/random_example/Liberty/object.obj\"\n",
    "astronaunt_obj = \"/home/andstasi/Projects/MediaVerse/3D_to_2D_converter/pytorch3d-renderer/data/random_example/Astronaut/GLB_to_OBJ_force_scene.obj\""
   ]
  },
  {
   "cell_type": "code",
   "execution_count": 12,
   "metadata": {},
   "outputs": [],
   "source": [
    "tiger_obj = trimesh.load(tiger_path,process = False)\n",
    "\n",
    "verts, faces, aux = load_obj(\n",
    "    tiger_path_obj,\n",
    "    device=\"cpu\",\n",
    "    load_textures=True\n",
    "    )"
   ]
  },
  {
   "cell_type": "code",
   "execution_count": 13,
   "metadata": {},
   "outputs": [
    {
     "name": "stdout",
     "output_type": "stream",
     "text": [
      "normalize the input in a unit shpere\n"
     ]
    }
   ],
   "source": [
    "\n",
    "\n",
    "verts = verts.to(device)\n",
    "faces_idx = faces.verts_idx.to(device) \n",
    "\n",
    "# normalize and center the mesh\n",
    "verts = RendererClass(params).pre_process(verts)\n",
    "\n",
    "# ------ Create a non-textured mesh -----------\n",
    "mesh = Meshes(\n",
    "        verts=[verts],\n",
    "        faces=[faces_idx])"
   ]
  },
  {
   "cell_type": "code",
   "execution_count": 121,
   "metadata": {},
   "outputs": [
    {
     "name": "stderr",
     "output_type": "stream",
     "text": [
      "2022-02-23 10:36:20.580 | INFO     | __main__:<module>:7 - Working with random/grayscale texture\n"
     ]
    }
   ],
   "source": [
    "obj_visual  = getattr(tiger_obj, \"visual\", None)\n",
    "\n",
    "#if the attribute exists then get the colors\n",
    "if obj_visual is not None:\n",
    "    features = torch.from_numpy(np.array(tiger_obj.visual.vertex_colors[:,0:3]/255))[None]\n",
    "    mesh.textures =  TexturesVertex(verts_features=features.float()).to(device)\n",
    "    logger.info(f\"Working with RGB colors\")\n",
    "    \n",
    "#else get grayscale colors\n",
    "else:\n",
    "    logger.info(f\"Working with random/grayscale texture\")\n",
    "    color = torch.ones(1, mesh.verts_list()[0].shape[0], 3, device=device)\n",
    "    mesh.textures = TexturesVertex(verts_features=color)"
   ]
  },
  {
   "cell_type": "code",
   "execution_count": 122,
   "metadata": {},
   "outputs": [],
   "source": [
    "param_path = \"/home/andstasi/Projects/MediaVerse/3D_to_2D_converter/pytorch3d-renderer/params_inference.json\"\n",
    "with open(param_path) as f:\n",
    "    params = json.load(f)\n",
    "\n",
    "device = \"cuda:0\"\n",
    "#load the pars to render 3D\n",
    "all_dist = params[\"camera_dist\"]\n",
    "all_elev = params[\"elevation\"]\n",
    "all_azim = params[\"azim_angle\"]\n",
    "\n",
    "#get all combinations\n",
    "all_combs =  list(itertools.product(*[all_dist,all_elev,all_azim]))\n",
    "\n",
    "\n",
    "dist,elev,azim = all_combs[0]\n",
    "image_size = 1024\n",
    "\n",
    "R, T = look_at_view_transform(dist=1, elev=elev, azim=azim)\n",
    "cameras = FoVPerspectiveCameras(device=device, R=R, T=T)\n",
    "raster_settings = RasterizationSettings(\n",
    "    image_size=image_size,\n",
    "    blur_radius=0.0,\n",
    "    clip_barycentric_coords=True,\n",
    "    faces_per_pixel=1,\n",
    ")\n",
    "# Initialize rasterizer by using a MeshRasterizer class\n",
    "rasterizer = MeshRasterizer(\n",
    "    cameras=cameras,\n",
    "    raster_settings=raster_settings\n",
    ")\n",
    "# The textured phong shader interpolates the texture uv coordinates for\n",
    "# each vertex, and samples from a texture image.\n",
    "shader = HardPhongShader(device=device, cameras=cameras,lights = PointLights(device=device))\n",
    "\n",
    "# Create a mesh renderer by composing a rasterizer and a shader\n",
    "renderer = MeshRenderer(rasterizer, shader)\n",
    "\n"
   ]
  },
  {
   "cell_type": "code",
   "execution_count": 123,
   "metadata": {},
   "outputs": [
    {
     "data": {
      "image/png": "[encoded data removed]",
      "text/plain": [
       "<Figure size 432x288 with 1 Axes>"
      ]
     },
     "metadata": {
      "needs_background": "light"
     },
     "output_type": "display_data"
    }
   ],
   "source": [
    "image = renderer(mesh)[0, ..., :3].cpu().numpy()\n",
    "plt.imshow(image)\n",
    "plt.show()"
   ]
  }
 ],
 "metadata": {
  "interpreter": {
   "hash": "cb3aa10cdef9f65946eadaea8cfe9157d932ff8335895c9f38c75282049245de"
  },
  "kernelspec": {
   "display_name": "Python 3.8.12 ('triton_inf')",
   "language": "python",
   "name": "python3"
  },
  "language_info": {
   "codemirror_mode": {
    "name": "ipython",
    "version": 3
   },
   "file_extension": ".py",
   "mimetype": "text/x-python",
   "name": "python",
   "nbconvert_exporter": "python",
   "pygments_lexer": "ipython3",
   "version": "3.8.12"
  },
  "orig_nbformat": 4
 },
 "nbformat": 4,
 "nbformat_minor": 2
}
