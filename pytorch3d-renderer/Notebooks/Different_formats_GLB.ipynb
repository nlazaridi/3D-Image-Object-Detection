{
 "cells": [
  {
   "cell_type": "code",
   "execution_count": null,
   "metadata": {},
   "outputs": [],
   "source": [
    "'''\n",
    "Try to import and make the class work for GLB format. Tried several ways, the optimal is to export it to Obj with Trimesh\n",
    "\n",
    "'''"
   ]
  },
  {
   "cell_type": "code",
   "execution_count": 5,
   "metadata": {},
   "outputs": [],
   "source": [
    "path_liberty = \"/home/andstasi/Projects/MediaVerse/3D_to_2D_converter/pytorch3d-renderer/data/random_example/Liberty/Liberty_v4.glb\"\n",
    "path_bed = \"/home/andstasi/Projects/MediaVerse/3D_to_2D_converter/pytorch3d-renderer/data/random_example/Bed/Single_Bed.gltf\""
   ]
  },
  {
   "cell_type": "markdown",
   "metadata": {},
   "source": [
    "## Trimesh/pyrender way"
   ]
  },
  {
   "cell_type": "code",
   "execution_count": 6,
   "metadata": {},
   "outputs": [
    {
     "name": "stdout",
     "output_type": "stream",
     "text": [
      "egl\n"
     ]
    }
   ],
   "source": [
    "import os\n",
    "os.environ[\"PYOPENGL_PLATFORM\"] = \"egl\" #opengl seems to only work with TPU\n",
    "!PYOPENGL_PLATFORM=egl python -c \"from OpenGL import EGL\"\n",
    "print(os.environ['PYOPENGL_PLATFORM']) "
   ]
  },
  {
   "cell_type": "code",
   "execution_count": 7,
   "metadata": {},
   "outputs": [
    {
     "name": "stdout",
     "output_type": "stream",
     "text": [
      "None\n",
      "None\n"
     ]
    }
   ],
   "source": [
    "\n",
    "\n",
    "import OpenGL.GL as gl\n",
    "print(gl.glGetString(gl.GL_VERSION))\n",
    "print(gl.glGetString(gl.GL_VENDOR)) "
   ]
  },
  {
   "cell_type": "code",
   "execution_count": 25,
   "metadata": {},
   "outputs": [],
   "source": [
    "import trimesh\n",
    "import pyrender\n",
    "from pyrender import Mesh\n",
    "import numpy as np\n",
    "import matplotlib.pyplot as plt\n",
    "import cv2\n",
    "\n",
    "from pyrender import PerspectiveCamera,\\\n",
    "                     DirectionalLight, SpotLight, PointLight,\\\n",
    "                     MetallicRoughnessMaterial,\\\n",
    "                     Primitive, Mesh, Node, Scene,\\\n",
    "                     OffscreenRenderer"
   ]
  },
  {
   "cell_type": "code",
   "execution_count": 8,
   "metadata": {},
   "outputs": [
    {
     "name": "stderr",
     "output_type": "stream",
     "text": [
      "primitive has no mode! trying GL_TRIANGLES?\n"
     ]
    }
   ],
   "source": [
    "fuze_trimesh = trimesh.load(path_bed)\n",
    "bottle_trimesh = fuze_trimesh.geometry[list(fuze_trimesh.geometry.keys())[0]] #gets only the first mesh!\n",
    "mesh = Mesh.from_trimesh(bottle_trimesh) \n"
   ]
  },
  {
   "cell_type": "code",
   "execution_count": 13,
   "metadata": {},
   "outputs": [
    {
     "data": {
      "image/png": "[encoded data removed]",
      "text/plain": [
       "<Figure size 432x288 with 2 Axes>"
      ]
     },
     "metadata": {
      "needs_background": "light"
     },
     "output_type": "display_data"
    }
   ],
   "source": [
    "bottle_pose = np.array([\n",
    "    [1.0, 0.0,  0.0, 0.1],\n",
    "    [0.0, 0.0, -1.0, -0.16],\n",
    "    [0.0, 1.0,  0.0, 0.13],\n",
    "    [0.0, 0.0,  0.0, 1.0],\n",
    "])\n",
    "scene = pyrender.Scene()\n",
    "scene.add(mesh)\n",
    "camera = pyrender.PerspectiveCamera(yfov=np.pi / 3.0, aspectRatio=1.0)\n",
    "s = np.sqrt(2)/2\n",
    "camera_pose = np.array([\n",
    "    [0.0, -s,   s,   0.3],\n",
    "    [1.0,  0.0, 0.0, 0.0],\n",
    "    [0.0,  s,   s,   0.35],\n",
    "    [0.0,  0.0, 0.0, 1.0],\n",
    " ])\n",
    "scene.add(camera, pose=camera_pose)\n",
    "light = pyrender.SpotLight(color=np.ones(3), intensity=3.0,\n",
    "                            innerConeAngle=np.pi/16.0,\n",
    "                           outerConeAngle=np.pi/6.0)\n",
    "scene.add(light, pose=camera_pose)\n",
    "r = pyrender.OffscreenRenderer(400, 400)\n",
    "color, depth = r.render(scene)\n",
    "plt.figure()\n",
    "plt.subplot(1,2,1)\n",
    "plt.axis('off')\n",
    "plt.imshow(color)\n",
    "plt.subplot(1,2,2)\n",
    "plt.axis('off')\n",
    "plt.imshow(depth, cmap=plt.cm.gray_r)\n",
    "plt.show()"
   ]
  },
  {
   "cell_type": "markdown",
   "metadata": {},
   "source": [
    "# Trimesh to load, pytorch3d to create mesh directly from GLB"
   ]
  },
  {
   "cell_type": "code",
   "execution_count": 2,
   "metadata": {},
   "outputs": [],
   "source": [
    "import trimesh\n",
    "import itertools\n",
    "import os\n",
    "from loguru import logger\n",
    "from pathlib import Path\n",
    "import numpy as np\n",
    "import io\n",
    "import json\n",
    "from PIL import Image\n",
    "import torch\n",
    "from pytorch3d.renderer import (\n",
    "    look_at_view_transform,\n",
    "    FoVPerspectiveCameras,\n",
    "    FoVOrthographicCameras,\n",
    "    Materials,\n",
    "    RasterizationSettings,\n",
    "    MeshRenderer,\n",
    "    MeshRasterizer,\n",
    "    SoftPhongShader,\n",
    "    TexturesVertex,\n",
    "    Textures,\n",
    "    TexturesAtlas,\n",
    "    PointsRenderer,\n",
    "    PointsRasterizationSettings,\n",
    "    PointsRasterizer\n",
    ")\n",
    "\n",
    "\n",
    "from pytorch3d.structures import Meshes\n",
    "\n",
    "import sys\n",
    "sys.path.append(\"../\")\n",
    "from rendererClass import RendererClass\n",
    "\n",
    "import matplotlib.pyplot as plt"
   ]
  },
  {
   "cell_type": "code",
   "execution_count": 15,
   "metadata": {},
   "outputs": [],
   "source": [
    "param_path = \"/home/andstasi/Projects/MediaVerse/3D_to_2D_converter/pytorch3d-renderer/params_inference.json\"\n",
    "with open(param_path) as f:\n",
    "    params = json.load(f)\n",
    "\n",
    "device = \"cuda:0\"\n",
    "#load the pars to render 3D\n",
    "all_dist = params[\"camera_dist\"]\n",
    "all_elev = params[\"elevation\"]\n",
    "all_azim = params[\"azim_angle\"]\n",
    "\n",
    "#get all combinations\n",
    "all_combs =  list(itertools.product(*[all_dist,all_elev,all_azim]))"
   ]
  },
  {
   "cell_type": "code",
   "execution_count": 27,
   "metadata": {},
   "outputs": [
    {
     "name": "stderr",
     "output_type": "stream",
     "text": [
      "primitive has no mode! trying GL_TRIANGLES?\n",
      "primitive has no mode! trying GL_TRIANGLES?\n",
      "primitive has no mode! trying GL_TRIANGLES?\n",
      "primitive has no mode! trying GL_TRIANGLES?\n",
      "primitive has no mode! trying GL_TRIANGLES?\n",
      "primitive has no mode! trying GL_TRIANGLES?\n",
      "primitive has no mode! trying GL_TRIANGLES?\n",
      "primitive has no mode! trying GL_TRIANGLES?\n",
      "primitive has no mode! trying GL_TRIANGLES?\n",
      "primitive has no mode! trying GL_TRIANGLES?\n",
      "primitive has no mode! trying GL_TRIANGLES?\n",
      "primitive has no mode! trying GL_TRIANGLES?\n",
      "primitive has no mode! trying GL_TRIANGLES?\n",
      "primitive has no mode! trying GL_TRIANGLES?\n",
      "primitive has no mode! trying GL_TRIANGLES?\n",
      "primitive has no mode! trying GL_TRIANGLES?\n",
      "primitive has no mode! trying GL_TRIANGLES?\n",
      "primitive has no mode! trying GL_TRIANGLES?\n",
      "primitive has no mode! trying GL_TRIANGLES?\n",
      "primitive has no mode! trying GL_TRIANGLES?\n",
      "primitive has no mode! trying GL_TRIANGLES?\n",
      "primitive has no mode! trying GL_TRIANGLES?\n",
      "primitive has no mode! trying GL_TRIANGLES?\n",
      "primitive has no mode! trying GL_TRIANGLES?\n",
      "primitive has no mode! trying GL_TRIANGLES?\n",
      "primitive has no mode! trying GL_TRIANGLES?\n",
      "primitive has no mode! trying GL_TRIANGLES?\n",
      "primitive has no mode! trying GL_TRIANGLES?\n",
      "primitive has no mode! trying GL_TRIANGLES?\n",
      "primitive has no mode! trying GL_TRIANGLES?\n",
      "primitive has no mode! trying GL_TRIANGLES?\n",
      "primitive has no mode! trying GL_TRIANGLES?\n",
      "primitive has no mode! trying GL_TRIANGLES?\n",
      "primitive has no mode! trying GL_TRIANGLES?\n",
      "primitive has no mode! trying GL_TRIANGLES?\n",
      "primitive has no mode! trying GL_TRIANGLES?\n",
      "primitive has no mode! trying GL_TRIANGLES?\n",
      "primitive has no mode! trying GL_TRIANGLES?\n",
      "primitive has no mode! trying GL_TRIANGLES?\n",
      "primitive has no mode! trying GL_TRIANGLES?\n",
      "primitive has no mode! trying GL_TRIANGLES?\n",
      "primitive has no mode! trying GL_TRIANGLES?\n",
      "primitive has no mode! trying GL_TRIANGLES?\n",
      "primitive has no mode! trying GL_TRIANGLES?\n",
      "primitive has no mode! trying GL_TRIANGLES?\n",
      "primitive has no mode! trying GL_TRIANGLES?\n",
      "primitive has no mode! trying GL_TRIANGLES?\n",
      "primitive has no mode! trying GL_TRIANGLES?\n",
      "primitive has no mode! trying GL_TRIANGLES?\n",
      "primitive has no mode! trying GL_TRIANGLES?\n",
      "primitive has no mode! trying GL_TRIANGLES?\n",
      "primitive has no mode! trying GL_TRIANGLES?\n",
      "primitive has no mode! trying GL_TRIANGLES?\n",
      "primitive has no mode! trying GL_TRIANGLES?\n",
      "primitive has no mode! trying GL_TRIANGLES?\n",
      "primitive has no mode! trying GL_TRIANGLES?\n",
      "primitive has no mode! trying GL_TRIANGLES?\n",
      "primitive has no mode! trying GL_TRIANGLES?\n",
      "primitive has no mode! trying GL_TRIANGLES?\n",
      "primitive has no mode! trying GL_TRIANGLES?\n",
      "primitive has no mode! trying GL_TRIANGLES?\n",
      "primitive has no mode! trying GL_TRIANGLES?\n",
      "primitive has no mode! trying GL_TRIANGLES?\n",
      "primitive has no mode! trying GL_TRIANGLES?\n",
      "primitive has no mode! trying GL_TRIANGLES?\n",
      "primitive has no mode! trying GL_TRIANGLES?\n",
      "primitive has no mode! trying GL_TRIANGLES?\n",
      "primitive has no mode! trying GL_TRIANGLES?\n",
      "primitive has no mode! trying GL_TRIANGLES?\n",
      "primitive has no mode! trying GL_TRIANGLES?\n",
      "primitive has no mode! trying GL_TRIANGLES?\n",
      "primitive has no mode! trying GL_TRIANGLES?\n",
      "primitive has no mode! trying GL_TRIANGLES?\n",
      "primitive has no mode! trying GL_TRIANGLES?\n",
      "primitive has no mode! trying GL_TRIANGLES?\n",
      "primitive has no mode! trying GL_TRIANGLES?\n",
      "primitive has no mode! trying GL_TRIANGLES?\n",
      "primitive has no mode! trying GL_TRIANGLES?\n",
      "primitive has no mode! trying GL_TRIANGLES?\n",
      "primitive has no mode! trying GL_TRIANGLES?\n",
      "primitive has no mode! trying GL_TRIANGLES?\n",
      "primitive has no mode! trying GL_TRIANGLES?\n",
      "primitive has no mode! trying GL_TRIANGLES?\n",
      "primitive has no mode! trying GL_TRIANGLES?\n",
      "primitive has no mode! trying GL_TRIANGLES?\n"
     ]
    }
   ],
   "source": [
    "force_to = \"scene\"\n",
    "save_name = \"GLB_to_OBJ_force_mesh_scaled.obj\"\n",
    "path_liberty = \"/home/andstasi/Projects/MediaVerse/3D_to_2D_converter/pytorch3d-renderer/data/random_example/Liberty/Liberty_v4.glb\"\n",
    "part_kitchen = \"/home/andstasi/Projects/MediaVerse/3D_to_2D_converter/pytorch3d-renderer/data/random_example/Kitchen/GLB_format/kitchen.glb\"\n",
    "path = Path(part_kitchen).parent.absolute()\n",
    "glb_mesh = trimesh.load(part_kitchen, force = force_to)\n",
    "\n",
    "#mesh.export(os.path.join(path,save_name))\n"
   ]
  },
  {
   "cell_type": "code",
   "execution_count": 35,
   "metadata": {},
   "outputs": [
    {
     "data": {
      "text/plain": [
       "odict_keys(['Circle', 'Circle.001', 'Circle.002', 'Circle.003', 'Circle.004', 'Circle.005', 'Circle.008_0', 'Circle.008_1', 'Circle.007', 'Circle.009_0', 'Circle.009_1', 'Circle.010_0', 'Circle.010_1', 'Circle.011_0', 'Circle.011_1', 'Circle.012_0', 'Circle.012_1', 'Circle.013_0', 'Circle.013_1', 'Circle.014_0', 'Circle.014_1', 'Circle.015_0', 'Circle.015_1', 'Circle.016_0', 'Circle.016_1', 'Cube.043', 'Cube.006_0', 'Cube.006_1', 'Cube.003', 'Cube.007', 'Cube.008', 'Cube.009', 'Cube.010', 'Cube.011', 'Cube.012_0', 'Cube.012_1', 'Cube.012_2', 'Cube.013', 'Cube.019', 'Cube.020', 'Cube.021', 'Cube.017', 'Cube.022', 'Cube.024', 'Cube.025', 'Cube.026', 'Cube.028_0', 'Cube.028_1', 'Cube.029_0', 'Cube.029_1', 'Cube.029_2', 'Cube.029_3', 'Cube.002', 'Cube.031', 'Cube.033', 'Cube.001', 'Cube.004', 'Cube.005', 'Cube.014', 'Cube.015', 'Cube.016', 'Cube.018', 'Cube.023', 'Cube.027', 'Cube.030', 'Cube.032', 'Cube.034', 'Cube.036', 'Cube.035', 'Cube.037', 'Cube.038', 'Cube.040', 'Cube.039', 'Cube.041', 'Cube.042', 'Cylinder', 'Cylinder.001', 'Cylinder.002', 'Cylinder.003', 'Cylinder.004', 'Cylinder.005', 'Cylinder.006', 'Cylinder.007', 'Plane.001', 'Plane.002'])"
      ]
     },
     "execution_count": 35,
     "metadata": {},
     "output_type": "execute_result"
    }
   ],
   "source": [
    "glb_mesh.geometry.keys()"
   ]
  },
  {
   "cell_type": "code",
   "execution_count": 28,
   "metadata": {},
   "outputs": [],
   "source": [
    "renderer = RendererClass(params)"
   ]
  },
  {
   "cell_type": "code",
   "execution_count": 29,
   "metadata": {},
   "outputs": [
    {
     "ename": "AttributeError",
     "evalue": "'Scene' object has no attribute 'vertices'",
     "output_type": "error",
     "traceback": [
      "\u001b[0;31m---------------------------------------------------------------------------\u001b[0m",
      "\u001b[0;31mAttributeError\u001b[0m                            Traceback (most recent call last)",
      "\u001b[0;32m/tmp/ipykernel_213900/1358028923.py\u001b[0m in \u001b[0;36m<module>\u001b[0;34m\u001b[0m\n\u001b[0;32m----> 1\u001b[0;31m \u001b[0mverts\u001b[0m \u001b[0;34m=\u001b[0m \u001b[0mtorch\u001b[0m\u001b[0;34m.\u001b[0m\u001b[0mfrom_numpy\u001b[0m\u001b[0;34m(\u001b[0m\u001b[0mnp\u001b[0m\u001b[0;34m.\u001b[0m\u001b[0marray\u001b[0m\u001b[0;34m(\u001b[0m\u001b[0mglb_mesh\u001b[0m\u001b[0;34m.\u001b[0m\u001b[0mvertices\u001b[0m\u001b[0;34m,\u001b[0m \u001b[0mdtype\u001b[0m\u001b[0;34m=\u001b[0m\u001b[0;34m'float32'\u001b[0m\u001b[0;34m)\u001b[0m\u001b[0;34m)\u001b[0m\u001b[0;34m[\u001b[0m\u001b[0;32mNone\u001b[0m\u001b[0;34m]\u001b[0m\u001b[0;34m\u001b[0m\u001b[0;34m\u001b[0m\u001b[0m\n\u001b[0m\u001b[1;32m      2\u001b[0m \u001b[0mfaces\u001b[0m \u001b[0;34m=\u001b[0m \u001b[0mtorch\u001b[0m\u001b[0;34m.\u001b[0m\u001b[0mfrom_numpy\u001b[0m\u001b[0;34m(\u001b[0m\u001b[0mnp\u001b[0m\u001b[0;34m.\u001b[0m\u001b[0marray\u001b[0m\u001b[0;34m(\u001b[0m\u001b[0mglb_mesh\u001b[0m\u001b[0;34m.\u001b[0m\u001b[0mfaces\u001b[0m\u001b[0;34m,\u001b[0m\u001b[0mdtype\u001b[0m\u001b[0;34m=\u001b[0m\u001b[0;34m'int64'\u001b[0m\u001b[0;34m)\u001b[0m\u001b[0;34m)\u001b[0m\u001b[0;34m[\u001b[0m\u001b[0;32mNone\u001b[0m\u001b[0;34m]\u001b[0m\u001b[0;34m\u001b[0m\u001b[0;34m\u001b[0m\u001b[0m\n\u001b[1;32m      3\u001b[0m \u001b[0mfeatures\u001b[0m \u001b[0;34m=\u001b[0m \u001b[0mtorch\u001b[0m\u001b[0;34m.\u001b[0m\u001b[0mfrom_numpy\u001b[0m\u001b[0;34m(\u001b[0m\u001b[0mnp\u001b[0m\u001b[0;34m.\u001b[0m\u001b[0marray\u001b[0m\u001b[0;34m(\u001b[0m\u001b[0mglb_mesh\u001b[0m\u001b[0;34m.\u001b[0m\u001b[0mvisual\u001b[0m\u001b[0;34m.\u001b[0m\u001b[0mvertex_colors\u001b[0m\u001b[0;34m[\u001b[0m\u001b[0;34m:\u001b[0m\u001b[0;34m,\u001b[0m\u001b[0;36m0\u001b[0m\u001b[0;34m:\u001b[0m\u001b[0;36m3\u001b[0m\u001b[0;34m]\u001b[0m\u001b[0;34m,\u001b[0m\u001b[0mdtype\u001b[0m\u001b[0;34m=\u001b[0m\u001b[0;34m'float32'\u001b[0m\u001b[0;34m)\u001b[0m\u001b[0;34m)\u001b[0m\u001b[0;34m[\u001b[0m\u001b[0;32mNone\u001b[0m\u001b[0;34m]\u001b[0m\u001b[0;34m\u001b[0m\u001b[0;34m\u001b[0m\u001b[0m\n\u001b[1;32m      4\u001b[0m \u001b[0mtex\u001b[0m \u001b[0;34m=\u001b[0m \u001b[0mTextures\u001b[0m\u001b[0;34m(\u001b[0m\u001b[0mverts_rgb\u001b[0m\u001b[0;34m=\u001b[0m\u001b[0mfeatures\u001b[0m\u001b[0;34m)\u001b[0m\u001b[0;34m\u001b[0m\u001b[0;34m\u001b[0m\u001b[0m\n\u001b[1;32m      5\u001b[0m \u001b[0;34m\u001b[0m\u001b[0m\n",
      "\u001b[0;31mAttributeError\u001b[0m: 'Scene' object has no attribute 'vertices'"
     ]
    }
   ],
   "source": [
    "verts = torch.from_numpy(np.array(glb_mesh.vertices, dtype='float32'))[None]\n",
    "faces = torch.from_numpy(np.array(glb_mesh.faces,dtype='int64'))[None]\n",
    "features = torch.from_numpy(np.array(glb_mesh.visual.vertex_colors[:,0:3],dtype='float32'))[None]\n",
    "tex = Textures(verts_rgb=features)\n",
    "\n",
    "\n",
    "verts = verts.to(device)\n",
    "faces_idx = faces.to(device) #get ids from the faces for back projecting\n",
    "tex = tex.to(device)\n",
    "\n",
    "\n",
    "\n",
    "mesh = Meshes(verts=verts, faces=faces_idx, textures = tex)\n",
    "print('mesh ', mesh)\n",
    "\n",
    "\n"
   ]
  },
  {
   "cell_type": "code",
   "execution_count": 23,
   "metadata": {},
   "outputs": [
    {
     "name": "stdout",
     "output_type": "stream",
     "text": [
      "(2, 0, 0)\n"
     ]
    }
   ],
   "source": [
    "\n",
    "\n",
    "example_pars = all_combs[0]\n",
    "print(example_pars)\n",
    "renderer_instance = renderer.get_renderer(15,example_pars[1],example_pars[2])"
   ]
  },
  {
   "cell_type": "code",
   "execution_count": 24,
   "metadata": {},
   "outputs": [],
   "source": [
    "\n",
    "\n",
    "image = renderer_instance(mesh)[0, ..., :3].cpu().numpy()"
   ]
  },
  {
   "cell_type": "code",
   "execution_count": 25,
   "metadata": {},
   "outputs": [],
   "source": [
    "save_path = \"/home/andstasi/Projects/MediaVerse/3D_to_2D_converter/pytorch3d-renderer/data/random_example/Kitchen/GLB_format/example.png\"\n",
    "plt.imsave(save_path, image/255)"
   ]
  },
  {
   "cell_type": "code",
   "execution_count": 26,
   "metadata": {},
   "outputs": [
    {
     "data": {
      "image/png": "[encoded data removed]",
      "text/plain": [
       "<Figure size 432x288 with 1 Axes>"
      ]
     },
     "metadata": {
      "needs_background": "light"
     },
     "output_type": "display_data"
    }
   ],
   "source": [
    "plt.imshow(image/255)\n",
    "plt.show()"
   ]
  }
 ],
 "metadata": {
  "interpreter": {
   "hash": "cb3aa10cdef9f65946eadaea8cfe9157d932ff8335895c9f38c75282049245de"
  },
  "kernelspec": {
   "display_name": "Python 3.8.12 ('triton_inf')",
   "language": "python",
   "name": "python3"
  },
  "language_info": {
   "codemirror_mode": {
    "name": "ipython",
    "version": 3
   },
   "file_extension": ".py",
   "mimetype": "text/x-python",
   "name": "python",
   "nbconvert_exporter": "python",
   "pygments_lexer": "ipython3",
   "version": "3.8.12"
  },
  "orig_nbformat": 4
 },
 "nbformat": 4,
 "nbformat_minor": 2
}
