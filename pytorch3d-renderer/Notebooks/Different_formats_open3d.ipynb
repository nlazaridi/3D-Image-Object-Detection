{
 "cells": [
  {
   "cell_type": "code",
   "execution_count": null,
   "metadata": {},
   "outputs": [],
   "source": [
    "''' \n",
    "Use open3D to process several formats. Issue with open3D is that it has a lot of dependences and creates conflicts.\n",
    "Moreover, it did not solve any of the issues we have\n",
    "'''"
   ]
  },
  {
   "cell_type": "markdown",
   "metadata": {},
   "source": [
    "# PLY format"
   ]
  },
  {
   "cell_type": "code",
   "execution_count": 3,
   "metadata": {},
   "outputs": [],
   "source": [
    "conf_ply_path = \"/home/andstasi/Projects/MediaVerse/3D_to_2D_converter/pytorch3d-renderer/data/random_example/S3DIS_examples/Area_3_conferenceRoom_1_v2.ply\"\n",
    "\n",
    "conference_room =o3d.read_point_cloud(conf_ply_path)"
   ]
  },
  {
   "cell_type": "code",
   "execution_count": null,
   "metadata": {},
   "outputs": [],
   "source": [
    "param_path = \"/home/andstasi/Projects/MediaVerse/3D_to_2D_converter/pytorch3d-renderer/params_inference.json\"\n",
    "with open(param_path) as f:\n",
    "    params = json.load(f)\n",
    "\n",
    "device = \"cuda:0\"\n",
    "#load the pars to render 3D\n",
    "all_dist = params[\"camera_dist\"]\n",
    "all_elev = params[\"elevation\"]\n",
    "all_azim = params[\"azim_angle\"]\n",
    "\n",
    "#get all combinations\n",
    "all_combs =  list(itertools.product(*[all_dist,all_elev,all_azim]))"
   ]
  },
  {
   "cell_type": "code",
   "execution_count": null,
   "metadata": {},
   "outputs": [],
   "source": [
    "#REFERENCE: https://github.com/facebookresearch/pytorch3d/issues/468\n",
    "\n",
    "np_vertices = np.array(bed_scene.vertices)\n",
    "np_faces = np.array(bed_scene.faces)\n",
    "\n",
    "verts = torch.from_numpy(np.array(np_vertices, dtype='float32'))[None][0]\n",
    "faces = torch.from_numpy(np.array(np_faces,dtype='int64'))[None][0]\n",
    "features = torch.from_numpy(np.array(conference_room.visual.vertex_colors,dtype='float32')[:,0:3])[None][0]\n",
    "\n",
    "\n",
    "tex = TexturesVertex(verts_features=features)"
   ]
  }
 ],
 "metadata": {
  "interpreter": {
   "hash": "52c2101eadf8dfa9e93bacc741dc5135a5819bb2a0b0214b59f55bbe5e9522a4"
  },
  "kernelspec": {
   "display_name": "Python 3.6.13 ('BAAF')",
   "language": "python",
   "name": "python3"
  },
  "language_info": {
   "codemirror_mode": {
    "name": "ipython",
    "version": 3
   },
   "file_extension": ".py",
   "mimetype": "text/x-python",
   "name": "python",
   "nbconvert_exporter": "python",
   "pygments_lexer": "ipython3",
   "version": "3.8.12"
  },
  "orig_nbformat": 4
 },
 "nbformat": 4,
 "nbformat_minor": 2
}
