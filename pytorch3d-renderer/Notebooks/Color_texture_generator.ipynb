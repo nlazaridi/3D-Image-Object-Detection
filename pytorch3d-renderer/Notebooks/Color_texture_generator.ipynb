{
 "cells": [
  {
   "cell_type": "code",
   "execution_count": null,
   "metadata": {},
   "outputs": [],
   "source": [
    "'''\n",
    "\n",
    "There is an issue with the textures as described in README. Sometimes when exporting to OBJ only one gray scale texture is passed.\n",
    "Alternative could be to generate colors so that there is not gray scale. \n",
    "I started working on that but nothing useful came up.\n",
    "'''"
   ]
  },
  {
   "cell_type": "code",
   "execution_count": 64,
   "metadata": {},
   "outputs": [],
   "source": [
    "from pygltflib import GLTF2, Scene\n",
    "import trimesh\n",
    "\n",
    "from pytorch3d.io import load_obj, load_ply\n",
    "from pytorch3d.structures import Meshes\n",
    "from pytorch3d.renderer import (\n",
    "    look_at_view_transform,\n",
    "    FoVPerspectiveCameras,\n",
    "    FoVOrthographicCameras,\n",
    "    Materials,\n",
    "    RasterizationSettings,\n",
    "    MeshRenderer,\n",
    "    MeshRasterizer,\n",
    "    SoftPhongShader,\n",
    "    BlendParams,\n",
    "    TexturesVertex,\n",
    "    TexturesAtlas,\n",
    "    PointsRenderer,\n",
    "    HardPhongShader,\n",
    "    PointsRasterizationSettings,\n",
    "     PointLights,\n",
    "    PointsRasterizer,\n",
    "    SoftSilhouetteShader\n",
    ")\n",
    "\n",
    "\n",
    "\n",
    "from pyrender import Mesh\n",
    "\n",
    "\n",
    "from pytorch3d.io import IO\n",
    "from pytorch3d.io.experimental_gltf_io import MeshGlbFormat\n",
    "\n",
    "\n",
    "from pytorch3d.structures import Meshes\n",
    "\n",
    "import sys\n",
    "sys.path.append(\"../\")\n",
    "from rendererClass import RendererClass\n",
    "\n",
    "import matplotlib.pyplot as plt\n",
    "import json\n",
    "import itertools\n",
    "import torch\n",
    "import numpy as np"
   ]
  },
  {
   "cell_type": "code",
   "execution_count": 65,
   "metadata": {},
   "outputs": [],
   "source": [
    "param_path = \"/home/andstasi/Projects/MediaVerse/3D_to_2D_converter/pytorch3d-renderer/params_inference.json\"\n",
    "with open(param_path) as f:\n",
    "    params = json.load(f)\n",
    "\n",
    "device = \"cuda:0\"\n",
    "\n",
    "\n",
    "all_dist = params[\"camera_dist\"]\n",
    "all_elev = params[\"elevation\"]\n",
    "all_azim = params[\"azim_angle\"]\n",
    "\n",
    "#get all combinations\n",
    "all_combs =  list(itertools.product(*[all_dist,all_elev,all_azim]))\n",
    "comb = all_combs[0]"
   ]
  },
  {
   "cell_type": "markdown",
   "metadata": {},
   "source": [
    "# Default with gray scale"
   ]
  },
  {
   "cell_type": "code",
   "execution_count": 80,
   "metadata": {},
   "outputs": [],
   "source": [
    "filename = \"/home/andstasi/Projects/MediaVerse/3D_to_2D_converter/pytorch3d-renderer/data/random_example/Bed/PLY_to_OBJ.obj\"\n",
    "Renderer_class  = RendererClass(params)\n",
    "'''\n",
    "try:\n",
    "    verts, faces, aux = load_obj(\n",
    "                filename,\n",
    "                device=device,\n",
    "                load_textures=True,\n",
    "                create_texture_atlas=True,\n",
    "                texture_atlas_size=4,\n",
    "                texture_wrap=\"repeat\"\n",
    "                )\n",
    "except:'''\n",
    "verts, faces, aux = load_obj(\n",
    "            filename,\n",
    "            device=device,\n",
    "            load_textures=True)"
   ]
  },
  {
   "cell_type": "code",
   "execution_count": 81,
   "metadata": {},
   "outputs": [
    {
     "name": "stdout",
     "output_type": "stream",
     "text": [
      "normalize the input in a unit shpere\n"
     ]
    }
   ],
   "source": [
    "verts = verts.to(device)\n",
    "faces_idx = faces.verts_idx.to(device) #get ids from the faces for back projecting\n",
    "\n",
    "# normalize and center the mesh\n",
    "verts = Renderer_class.pre_process(verts)\n",
    "    \n",
    "# ------ Create a textured object -----------\n",
    "atlas = aux.texture_atlas\n",
    "\n"
   ]
  },
  {
   "cell_type": "code",
   "execution_count": 82,
   "metadata": {},
   "outputs": [],
   "source": [
    "# Create Meshes object\n",
    "mesh = Meshes(\n",
    "    verts=[verts],\n",
    "    faces=[faces_idx]) "
   ]
  },
  {
   "cell_type": "code",
   "execution_count": 83,
   "metadata": {},
   "outputs": [],
   "source": [
    "color = torch.ones(1, verts.size(0), 3, device=device)\n",
    "mesh.textures = TexturesVertex(verts_features=color)"
   ]
  },
  {
   "cell_type": "code",
   "execution_count": 84,
   "metadata": {},
   "outputs": [],
   "source": [
    "dist,elev,azim = 1,0,45\n",
    "image_size = 1024\n",
    "blend_params = BlendParams(sigma=0.001, gamma=0.001)\n",
    "\n",
    "R, T = look_at_view_transform(dist=dist, elev=elev, azim=azim)\n",
    "cameras = FoVPerspectiveCameras(device=device, R=R, T=T)\n",
    "raster_settings = RasterizationSettings(\n",
    "    image_size=image_size,\n",
    "    blur_radius=0.0,\n",
    "    clip_barycentric_coords=True,\n",
    "    faces_per_pixel=1,\n",
    ")\n",
    "# Initialize rasterizer by using a MeshRasterizer class\n",
    "rasterizer = MeshRasterizer(\n",
    "    cameras=cameras,\n",
    "    raster_settings=raster_settings\n",
    ")\n",
    "# The textured phong shader interpolates the texture uv coordinates for\n",
    "# each vertex, and samples from a texture image.\n",
    "shader = HardPhongShader(device=device, cameras=cameras,lights = PointLights(device=device, location=[[0.0, 0.0, -3.0]]))\n",
    "#shader = SoftSilhouetteShader(blend_params)\n",
    "\n",
    "# Create a mesh renderer by composing a rasterizer and a shader\n",
    "renderer = MeshRenderer(rasterizer, shader)"
   ]
  },
  {
   "cell_type": "code",
   "execution_count": 87,
   "metadata": {},
   "outputs": [],
   "source": [
    "image = renderer(mesh)[0, ..., :3].cpu().numpy()"
   ]
  },
  {
   "cell_type": "code",
   "execution_count": 88,
   "metadata": {},
   "outputs": [
    {
     "data": {
      "image/png": "[encoded data removed]",
      "text/plain": [
       "<Figure size 432x288 with 1 Axes>"
      ]
     },
     "metadata": {
      "needs_background": "light"
     },
     "output_type": "display_data"
    }
   ],
   "source": [
    "plt.imshow(image)\n",
    "plt.show()"
   ]
  }
 ],
 "metadata": {
  "interpreter": {
   "hash": "cb3aa10cdef9f65946eadaea8cfe9157d932ff8335895c9f38c75282049245de"
  },
  "kernelspec": {
   "display_name": "Python 3.8.12 ('triton_inf')",
   "language": "python",
   "name": "python3"
  },
  "language_info": {
   "codemirror_mode": {
    "name": "ipython",
    "version": 3
   },
   "file_extension": ".py",
   "mimetype": "text/x-python",
   "name": "python",
   "nbconvert_exporter": "python",
   "pygments_lexer": "ipython3",
   "version": "3.8.12"
  },
  "orig_nbformat": 4
 },
 "nbformat": 4,
 "nbformat_minor": 2
}
