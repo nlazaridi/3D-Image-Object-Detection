{
 "cells": [
  {
   "cell_type": "code",
   "execution_count": null,
   "metadata": {},
   "outputs": [],
   "source": [
    "'''\n",
    "Use the notebook to test one example for testing\n",
    "\n",
    "'''"
   ]
  },
  {
   "cell_type": "code",
   "execution_count": 1,
   "metadata": {},
   "outputs": [],
   "source": [
    "\n",
    "os.environ['CUDA_LAUNCH_BLOCKING'] = '1'"
   ]
  },
  {
   "cell_type": "code",
   "execution_count": 2,
   "metadata": {},
   "outputs": [],
   "source": [
    "import trimesh\n",
    "import os\n",
    "from loguru import logger\n",
    "from pathlib import Path\n",
    "import numpy as np\n",
    "from trimesh.transformations import scale_matrix, translation_matrix\n",
    "from pytorch3d.io import load_obj, save_obj, load_ply,load_objs_as_meshes\n",
    "from pytorch3d.io import IO\n",
    "import pytorch3d\n",
    "\n",
    "from pytorch3d.renderer import (\n",
    "    look_at_view_transform,\n",
    "    FoVPerspectiveCameras,\n",
    "    FoVOrthographicCameras,\n",
    "    Materials,\n",
    "    RasterizationSettings,\n",
    "    MeshRenderer,\n",
    "    MeshRasterizer,\n",
    "    PointLights,\n",
    "    SoftPhongShader,\n",
    "    TexturesVertex,\n",
    "    HardPhongShader,\n",
    "    Textures,\n",
    "    TexturesUV,\n",
    "    TexturesAtlas,\n",
    "    PointsRenderer,\n",
    "    PointsRasterizationSettings,\n",
    "    PointsRasterizer\n",
    ")\n",
    "\n",
    "\n",
    "from pytorch3d.structures import Meshes\n",
    "\n",
    "import sys\n",
    "sys.path.append(\"../\")\n",
    "from rendererClass import RendererClass\n",
    "\n",
    "import matplotlib.pyplot as plt\n",
    "import json\n",
    "import itertools\n",
    "import torch"
   ]
  },
  {
   "cell_type": "code",
   "execution_count": 11,
   "metadata": {},
   "outputs": [],
   "source": [
    "save_path = \"/home/andstasi/Projects/MediaVerse/3D_to_2D_converter/pytorch3d-renderer/data/random_example/Kitchen/GLB_format/scene/GLB_to_OBJ_force_scene.obj\"\n",
    "#save_path = \"/home/andstasi/Projects/MediaVerse/3D_to_2D_converter/pytorch3d-renderer/data/random_example/Liberty/scene/GLB_to_OBJ_force_scene.obj\"\n",
    "save_path = \"/home/andstasi/Projects/MediaVerse/3D_to_2D_converter/pytorch3d-renderer/data/random_example/girl/scene/GLB_to_OBJ_force_scene.obj\"\n",
    "save_path = \"/home/andstasi/Projects/MediaVerse/3D_to_2D_converter/pytorch3d-renderer/data/random_example/S3DIS_examples/PLY_to_OBJ.obj\"\n",
    "save_path = \"/home/andstasi/Projects/MediaVerse/3D_to_2D_converter/pytorch3d-renderer/data/random_example/Several_format/bed_room/untitled.obj\"\n",
    "save_path = \"/home/andstasi/Projects/MediaVerse/3D_to_2D_converter/pytorch3d-renderer/data/random_example/Astronaut/scene/GLB_to_OBJ_force_scene.obj\"\n",
    "\n",
    "verts, faces, aux = load_obj(\n",
    "        save_path,\n",
    "        device=device,\n",
    "        load_textures=True)"
   ]
  },
  {
   "cell_type": "code",
   "execution_count": 3,
   "metadata": {},
   "outputs": [
    {
     "name": "stderr",
     "output_type": "stream",
     "text": [
      "/home/andstasi/anaconda3/envs/triton_inf/lib/python3.8/site-packages/pytorch3d/io/utils.py:66: UserWarning: Faces have invalid indices\n",
      "  warnings.warn(\"Faces have invalid indices\")\n"
     ]
    }
   ],
   "source": [
    "io = IO()\n",
    "save_path = \"/home/andstasi/Projects/MediaVerse/3D_to_2D_converter/pytorch3d-renderer/data/random_example/Several_format/full_body_scan/Full body PLY/full_body.ply\"\n",
    "#save_path = \"/home/andstasi/Projects/MediaVerse/3D_to_2D_converter/pytorch3d-renderer/data/random_example/Several_format/full_body_scan/Full body OBJ/full_body.obj\"\n",
    "save_path  = \"/home/andstasi/Projects/MediaVerse/3D_to_2D_converter/pytorch3d-renderer/data/random_example/Several_format/tiger/Golden Tiger.ply\"\n",
    "save_path = \"/home/andstasi/Projects/MediaVerse/3D_to_2D_converter/pytorch3d-renderer/data/random_example/Liberty/scene/GLB_to_OBJ_force_scene.obj\"\n",
    "\n",
    "\n",
    "mesh = io.load_mesh(save_path, include_textures= True,device = device)"
   ]
  },
  {
   "cell_type": "code",
   "execution_count": 4,
   "metadata": {},
   "outputs": [],
   "source": [
    "param_path = \"/home/andstasi/Projects/MediaVerse/3D_to_2D_converter/pytorch3d-renderer/params_inference.json\"\n",
    "with open(param_path) as f:\n",
    "    params = json.load(f)\n",
    "\n",
    "device = \"cuda:1\"\n",
    "#load the pars to render 3D\n",
    "all_dist = params[\"camera_dist\"]\n",
    "all_elev = params[\"elevation\"]\n",
    "all_azim = params[\"azim_angle\"]\n",
    "\n",
    "#get all combinations\n",
    "all_combs =  list(itertools.product(*[all_dist,all_elev,all_azim]))"
   ]
  },
  {
   "cell_type": "code",
   "execution_count": 33,
   "metadata": {},
   "outputs": [],
   "source": [
    "verts, faces, aux = load_obj(\n",
    "        save_path,\n",
    "        device=device,\n",
    "        load_textures = True)\n",
    "        \n",
    "        \n",
    "        \n"
   ]
  },
  {
   "cell_type": "code",
   "execution_count": null,
   "metadata": {},
   "outputs": [],
   "source": [
    "verts, faces, aux = load_obj(\n",
    "        save_path,\n",
    "        device=device,\n",
    "        load_textures=True,\n",
    "        create_texture_atlas=True,\n",
    "        texture_atlas_size=4,\n",
    "        texture_wrap=\"repeat\"\n",
    "        )"
   ]
  },
  {
   "cell_type": "code",
   "execution_count": 5,
   "metadata": {},
   "outputs": [
    {
     "name": "stdout",
     "output_type": "stream",
     "text": [
      "dsds\n"
     ]
    }
   ],
   "source": [
    "tex_maps = aux.texture_images\n",
    "if tex_maps is not None and len(tex_maps) > 0:\n",
    "    print(\"dsds\")\n",
    "    verts_uvs = aux.verts_uvs.to(device)\n",
    "    faces_uvs = faces.textures_idx.to(device)\n",
    "    image = list(tex_maps.values())[0].to(device)[None]\n",
    "    #image = list(tex_maps.values())\n",
    "    tex = TexturesUV(verts_uvs=[verts_uvs], faces_uvs=[faces_uvs], maps=image)"
   ]
  },
  {
   "cell_type": "code",
   "execution_count": 6,
   "metadata": {},
   "outputs": [
    {
     "name": "stdout",
     "output_type": "stream",
     "text": [
      "normalize the input in a unit shpere\n"
     ]
    }
   ],
   "source": [
    "renderer = RendererClass(params)\n",
    "verts = verts.to(device)\n",
    "faces_idx = faces.verts_idx.to(device) #get ids from the faces for back projecting\n",
    "\n",
    "# normalize and center the mesh\n",
    "verts = renderer.pre_process(verts)\n",
    "   \n"
   ]
  },
  {
   "cell_type": "code",
   "execution_count": 7,
   "metadata": {},
   "outputs": [],
   "source": [
    "# Create Meshes object\n",
    "mesh = Meshes(\n",
    "    verts=[verts],\n",
    "    faces=[faces_idx],\n",
    "    textures=tex)"
   ]
  },
  {
   "cell_type": "code",
   "execution_count": 45,
   "metadata": {},
   "outputs": [],
   "source": [
    "\n",
    "'''# Create Meshes object\n",
    "mesh = Meshes(\n",
    "    verts=[verts],\n",
    "    faces=[faces_idx])    '''\n",
    "   \n",
    "    \n",
    "# ------ Create a textured object -----------\n",
    "atlas = aux.texture_atlas\n",
    "\n",
    "\n",
    "\n",
    "mesh = Meshes(\n",
    "    verts=[verts],\n",
    "    faces=[faces_idx],\n",
    "    textures=TexturesAtlas(atlas=[atlas]),)\n"
   ]
  },
  {
   "cell_type": "code",
   "execution_count": 10,
   "metadata": {},
   "outputs": [],
   "source": [
    "#color = torch.ones(1, verts.size(0), 3, device=device)\n",
    "color = torch.ones(1, mesh.verts_list()[0].shape[0], 3, device=device)\n",
    "#features = torch.from_numpy(np.array(aux.texture_images.values(),dtype='float32'))[None]\n",
    "mesh.textures = TexturesVertex(verts_features=color)"
   ]
  },
  {
   "cell_type": "code",
   "execution_count": 8,
   "metadata": {},
   "outputs": [],
   "source": [
    "dist,elev,azim = all_combs[0]\n",
    "image_size = 1024\n",
    "\n",
    "R, T = look_at_view_transform(dist=2, elev=elev, azim=azim)\n",
    "cameras = FoVPerspectiveCameras(device=device, R=R, T=T)\n",
    "raster_settings = RasterizationSettings(\n",
    "    image_size=image_size,\n",
    "    blur_radius=0.0,\n",
    "    clip_barycentric_coords=True,\n",
    "    faces_per_pixel=1,\n",
    ")\n",
    "# Initialize rasterizer by using a MeshRasterizer class\n",
    "rasterizer = MeshRasterizer(\n",
    "    cameras=cameras,\n",
    "    raster_settings=raster_settings\n",
    ")\n",
    "# The textured phong shader interpolates the texture uv coordinates for\n",
    "# each vertex, and samples from a texture image.\n",
    "shader = HardPhongShader(device=device, cameras=cameras,lights = PointLights(device=device))\n",
    "\n",
    "# Create a mesh renderer by composing a rasterizer and a shader\n",
    "renderer = MeshRenderer(rasterizer, shader)"
   ]
  },
  {
   "cell_type": "code",
   "execution_count": 75,
   "metadata": {},
   "outputs": [
    {
     "ename": "AttributeError",
     "evalue": "'MeshRenderer' object has no attribute 'pre_process'",
     "output_type": "error",
     "traceback": [
      "\u001b[0;31m---------------------------------------------------------------------------\u001b[0m",
      "\u001b[0;31mAttributeError\u001b[0m                            Traceback (most recent call last)",
      "\u001b[0;32m/tmp/ipykernel_664988/1967995453.py\u001b[0m in \u001b[0;36m<module>\u001b[0;34m\u001b[0m\n\u001b[1;32m     12\u001b[0m \u001b[0;34m\u001b[0m\u001b[0m\n\u001b[1;32m     13\u001b[0m \u001b[0;31m# normalize and center the mesh\u001b[0m\u001b[0;34m\u001b[0m\u001b[0;34m\u001b[0m\u001b[0;34m\u001b[0m\u001b[0m\n\u001b[0;32m---> 14\u001b[0;31m \u001b[0mverts\u001b[0m \u001b[0;34m=\u001b[0m \u001b[0mrenderer\u001b[0m\u001b[0;34m.\u001b[0m\u001b[0mpre_process\u001b[0m\u001b[0;34m(\u001b[0m\u001b[0mverts\u001b[0m\u001b[0;34m)\u001b[0m\u001b[0;34m\u001b[0m\u001b[0;34m\u001b[0m\u001b[0m\n\u001b[0m",
      "\u001b[0;32m~/anaconda3/envs/triton_inf/lib/python3.8/site-packages/torch/nn/modules/module.py\u001b[0m in \u001b[0;36m__getattr__\u001b[0;34m(self, name)\u001b[0m\n\u001b[1;32m   1175\u001b[0m             \u001b[0;32mif\u001b[0m \u001b[0mname\u001b[0m \u001b[0;32min\u001b[0m \u001b[0mmodules\u001b[0m\u001b[0;34m:\u001b[0m\u001b[0;34m\u001b[0m\u001b[0;34m\u001b[0m\u001b[0m\n\u001b[1;32m   1176\u001b[0m                 \u001b[0;32mreturn\u001b[0m \u001b[0mmodules\u001b[0m\u001b[0;34m[\u001b[0m\u001b[0mname\u001b[0m\u001b[0;34m]\u001b[0m\u001b[0;34m\u001b[0m\u001b[0;34m\u001b[0m\u001b[0m\n\u001b[0;32m-> 1177\u001b[0;31m         raise AttributeError(\"'{}' object has no attribute '{}'\".format(\n\u001b[0m\u001b[1;32m   1178\u001b[0m             type(self).__name__, name))\n\u001b[1;32m   1179\u001b[0m \u001b[0;34m\u001b[0m\u001b[0m\n",
      "\u001b[0;31mAttributeError\u001b[0m: 'MeshRenderer' object has no attribute 'pre_process'"
     ]
    }
   ],
   "source": [
    "'''mesh = load_objs_as_meshes(\n",
    "        [save_path],\n",
    "        device=device,\n",
    "        load_textures=True,\n",
    "        create_texture_atlas=True,\n",
    "        texture_atlas_size=4,\n",
    "        texture_wrap=\"repeat\"\n",
    "        )\n",
    "\n",
    "verts = verts.to(device)\n",
    "faces_idx = faces.verts_idx.to(device) #get ids from the faces for back projecting\n",
    "\n",
    "# normalize and center the mesh\n",
    "verts = renderer.pre_process(verts)'''"
   ]
  },
  {
   "cell_type": "code",
   "execution_count": 9,
   "metadata": {},
   "outputs": [],
   "source": [
    "\n",
    "image = renderer(mesh)[0, ..., :3].cpu().numpy()"
   ]
  },
  {
   "cell_type": "code",
   "execution_count": 10,
   "metadata": {},
   "outputs": [
    {
     "data": {
      "image/png": "[encoded data removed]",
      "text/plain": [
       "<Figure size 432x288 with 1 Axes>"
      ]
     },
     "metadata": {
      "needs_background": "light"
     },
     "output_type": "display_data"
    }
   ],
   "source": [
    "plt.imshow(image)\n",
    "plt.show()"
   ]
  },
  {
   "cell_type": "code",
   "execution_count": 52,
   "metadata": {},
   "outputs": [
    {
     "data": {
      "image/png": "[encoded data removed]",
      "text/plain": [
       "<Figure size 432x288 with 1 Axes>"
      ]
     },
     "metadata": {
      "needs_background": "light"
     },
     "output_type": "display_data"
    }
   ],
   "source": [
    "plt.imshow(image)\n",
    "plt.show()"
   ]
  }
 ],
 "metadata": {
  "interpreter": {
   "hash": "cb3aa10cdef9f65946eadaea8cfe9157d932ff8335895c9f38c75282049245de"
  },
  "kernelspec": {
   "display_name": "Python 3.8.12 ('triton_inf')",
   "language": "python",
   "name": "python3"
  },
  "language_info": {
   "codemirror_mode": {
    "name": "ipython",
    "version": 3
   },
   "file_extension": ".py",
   "mimetype": "text/x-python",
   "name": "python",
   "nbconvert_exporter": "python",
   "pygments_lexer": "ipython3",
   "version": "3.8.12"
  },
  "orig_nbformat": 4
 },
 "nbformat": 4,
 "nbformat_minor": 2
}
