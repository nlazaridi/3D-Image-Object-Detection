{
 "cells": [
  {
   "cell_type": "code",
   "execution_count": null,
   "metadata": {},
   "outputs": [],
   "source": [
    "''' \n",
    "Pytorch is mostly work with PLY and OBJ. There is a beta version for GLB. \n",
    "I tried it so that you do not need to convery GLB to OBJ, but there are some bugs and the implementation is not stable\n",
    "\n",
    "'''"
   ]
  },
  {
   "cell_type": "code",
   "execution_count": 1,
   "metadata": {},
   "outputs": [],
   "source": [
    "from pygltflib import GLTF2, Scene\n",
    "import trimesh\n",
    "\n",
    "from pytorch3d.io import load_obj, load_ply\n",
    "from pytorch3d.structures import Meshes\n",
    "from pytorch3d.renderer import (\n",
    "    look_at_view_transform,\n",
    "    FoVPerspectiveCameras,\n",
    "    FoVOrthographicCameras,\n",
    "    Materials,\n",
    "    RasterizationSettings,\n",
    "    MeshRenderer,\n",
    "    MeshRasterizer,\n",
    "    SoftPhongShader,\n",
    "    TexturesVertex,\n",
    "    TexturesAtlas,\n",
    "    PointsRenderer,\n",
    "    PointsRasterizationSettings,\n",
    "    PointsRasterizer\n",
    ")\n",
    "\n",
    "\n",
    "\n",
    "from pyrender import Mesh\n",
    "\n",
    "\n",
    "from pytorch3d.io import IO\n",
    "from pytorch3d.io.experimental_gltf_io import MeshGlbFormat\n",
    "\n",
    "\n",
    "from pytorch3d.structures import Meshes\n",
    "\n",
    "import sys\n",
    "sys.path.append(\"../\")\n",
    "from rendererClass import RendererClass\n",
    "\n",
    "import matplotlib.pyplot as plt\n",
    "import json\n",
    "import itertools\n",
    "import torch\n",
    "import numpy as np"
   ]
  },
  {
   "cell_type": "code",
   "execution_count": 7,
   "metadata": {},
   "outputs": [],
   "source": [
    "param_path = \"/home/andstasi/Projects/MediaVerse/3D_to_2D_converter/pytorch3d-renderer/params_inference.json\"\n",
    "with open(param_path) as f:\n",
    "    params = json.load(f)\n",
    "\n",
    "device = \"cuda:3\"\n",
    "#load the pars to render 3D\n",
    "all_dist = params[\"camera_dist\"]\n",
    "all_elev = params[\"elevation\"]\n",
    "all_azim = params[\"azim_angle\"]\n",
    "\n",
    "#get all combinations\n",
    "all_combs =  list(itertools.product(*[all_dist,all_elev,all_azim]))"
   ]
  },
  {
   "cell_type": "code",
   "execution_count": 8,
   "metadata": {},
   "outputs": [],
   "source": [
    "path_bed = \"/home/andstasi/Projects/MediaVerse/3D_to_2D_converter/pytorch3d-renderer/data/random_example/Bed/Single_Bed.gltf\"\n",
    "path_liberty = \"/home/andstasi/Projects/MediaVerse/3D_to_2D_converter/pytorch3d-renderer/data/random_example/Liberty/Liberty_v4.glb\"\n",
    "path_astronaut = \"/home/andstasi/Projects/MediaVerse/3D_to_2D_converter/pytorch3d-renderer/data/random_example/Astronaut/Astronaut.glb\"\n",
    "part_kitchen = \"/home/andstasi/Projects/MediaVerse/3D_to_2D_converter/pytorch3d-renderer/data/random_example/Kitchen/GLB_format/kitchen.glb\"\n",
    "path_banana = \"/home/andstasi/Projects/MediaVerse/3D_to_2D_converter/pytorch3d-renderer/data/random_example/Banana/banana.glb\"\n",
    "bottle = \"/home/andstasi/Projects/MediaVerse/3D_to_2D_converter/pytorch3d-renderer/data/random_example/bottle/WaterBottle.glb\"\n",
    "path_apple = \"/home/andstasi/Projects/MediaVerse/3D_to_2D_converter/pytorch3d-renderer/data/random_example/Apple/apples.gltf\""
   ]
  },
  {
   "cell_type": "code",
   "execution_count": 24,
   "metadata": {},
   "outputs": [],
   "source": [
    "io = IO()\n",
    "io.register_meshes_format(MeshGlbFormat())\n",
    "\n",
    "# If load with textures it gives error...\n",
    "mesh_glb = io.load_mesh(path_astronaut, include_textures= True,device = device)"
   ]
  },
  {
   "cell_type": "code",
   "execution_count": 27,
   "metadata": {},
   "outputs": [
    {
     "data": {
      "text/plain": [
       "[tensor([[ 0.0095,  0.8253,  0.1077],\n",
       "         [ 0.0270,  0.8464,  0.2492],\n",
       "         [ 0.0000,  0.8415,  0.2438],\n",
       "         ...,\n",
       "         [-0.2532,  1.6374, -0.0279],\n",
       "         [-0.2546,  1.6725, -0.0168],\n",
       "         [-0.2635,  1.6321, -0.0274]], device='cuda:3')]"
      ]
     },
     "execution_count": 27,
     "metadata": {},
     "output_type": "execute_result"
    }
   ],
   "source": [
    "mesh_glb._verts_list"
   ]
  },
  {
   "cell_type": "code",
   "execution_count": 31,
   "metadata": {},
   "outputs": [],
   "source": [
    "ex = mesh_glb._verts_list[0]"
   ]
  },
  {
   "cell_type": "code",
   "execution_count": null,
   "metadata": {},
   "outputs": [],
   "source": [
    "vertices = torch.from_numpy(np.array(mesh_glb_trimesh.visual.vertex_colors[:,0:3],dtype='float32'))[None]\n"
   ]
  },
  {
   "cell_type": "code",
   "execution_count": 32,
   "metadata": {},
   "outputs": [],
   "source": [
    "center = ex.mean(0)\n",
    "verts = ex - center\n",
    "scale = max(verts.abs().max(0)[0])\n",
    "verts = verts / scale"
   ]
  },
  {
   "cell_type": "code",
   "execution_count": 34,
   "metadata": {},
   "outputs": [],
   "source": [
    "mesh_glb._verts_list[0] = verts"
   ]
  },
  {
   "cell_type": "code",
   "execution_count": 22,
   "metadata": {},
   "outputs": [],
   "source": [
    "# read it with trimesh as well\n",
    "mesh_glb_trimesh = trimesh.load(path_astronaut, force = \"mesh\")"
   ]
  },
  {
   "cell_type": "code",
   "execution_count": null,
   "metadata": {},
   "outputs": [],
   "source": [
    "features = torch.from_numpy(np.array(mesh_glb_trimesh.visual.vertex_colors[:,0:3],dtype='float32'))[None]\n"
   ]
  },
  {
   "cell_type": "code",
   "execution_count": 69,
   "metadata": {},
   "outputs": [],
   "source": [
    "#color = torch.ones(1, mesh_glb._verts_list[0].shape[0], 3, device=device)\n",
    "mesh_glb.textures = TexturesVertex(verts_features=features).to(device)"
   ]
  },
  {
   "cell_type": "code",
   "execution_count": 35,
   "metadata": {},
   "outputs": [],
   "source": [
    "renderer = RendererClass(params)\n",
    "\n"
   ]
  },
  {
   "cell_type": "code",
   "execution_count": 40,
   "metadata": {},
   "outputs": [],
   "source": [
    "\n",
    "example_pars = all_combs[0]\n",
    "renderer_instance = renderer.get_renderer(2,0,180)\n",
    "\n",
    "image = renderer_instance(mesh_glb)[0, ..., :3].cpu().numpy()"
   ]
  },
  {
   "cell_type": "code",
   "execution_count": 41,
   "metadata": {},
   "outputs": [
    {
     "data": {
      "image/png": "[encoded data removed]",
      "text/plain": [
       "<Figure size 432x288 with 1 Axes>"
      ]
     },
     "metadata": {
      "needs_background": "light"
     },
     "output_type": "display_data"
    }
   ],
   "source": [
    "plt.imshow(image)\n",
    "plt.show()"
   ]
  }
 ],
 "metadata": {
  "interpreter": {
   "hash": "301ea5bce07d0bf97b0943cb53c9a2386d2ca8cdb3b1fce4bbe689a342bfc9d6"
  },
  "kernelspec": {
   "display_name": "Python 3.8.8 ('base')",
   "language": "python",
   "name": "python3"
  },
  "language_info": {
   "codemirror_mode": {
    "name": "ipython",
    "version": 3
   },
   "file_extension": ".py",
   "mimetype": "text/x-python",
   "name": "python",
   "nbconvert_exporter": "python",
   "pygments_lexer": "ipython3",
   "version": "3.8.12"
  },
  "orig_nbformat": 4
 },
 "nbformat": 4,
 "nbformat_minor": 2
}
